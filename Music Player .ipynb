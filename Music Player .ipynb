{
 "cells": [
  {
   "cell_type": "code",
   "execution_count": null,
   "id": "2dfd0813",
   "metadata": {},
   "outputs": [
    {
     "name": "stdout",
     "output_type": "stream",
     "text": [
      "enter your song which you want to listentu chale\n"
     ]
    }
   ],
   "source": [
    "from playsound import playsound\n",
    "songslist = input(\"enter your song which you want to listen\")\n",
    "if \"tu chale\" in songslist:\n",
    "    playsound(\"C:\\\\Users\\\\riyesh\\\\Pictures\\\\Screenshots\\\\tu chale.mp3\")\n",
    "elif \"namo namo\" in songslist:\n",
    "    playsound(\"C:\\\\Users\\\\riyesh\\\\Pictures\\\\Screenshots\\\\namo namo.mp3\")\n",
    "elif \"ganapati aarti\" in songslist:\n",
    "    playsound(\"C:\\\\Users\\\\riyesh\\\\Pictures\\\\Screenshots\\\\ganapati aarti.mp3\")\n",
    "elif \"sapna jahan\" in songslist:\n",
    "    playsound(\"C:\\\\Users\\\\riyesh\\\\Pictures\\\\Screenshots\\\\sapna jahan.mp3\")\n",
    "else:\n",
    "    print(\"this song is not in songlist\")"
   ]
  },
  {
   "cell_type": "code",
   "execution_count": null,
   "id": "df6cd649",
   "metadata": {},
   "outputs": [],
   "source": []
  }
 ],
 "metadata": {
  "kernelspec": {
   "display_name": "Python 3 (ipykernel)",
   "language": "python",
   "name": "python3"
  },
  "language_info": {
   "codemirror_mode": {
    "name": "ipython",
    "version": 3
   },
   "file_extension": ".py",
   "mimetype": "text/x-python",
   "name": "python",
   "nbconvert_exporter": "python",
   "pygments_lexer": "ipython3",
   "version": "3.9.13"
  }
 },
 "nbformat": 4,
 "nbformat_minor": 5
}
